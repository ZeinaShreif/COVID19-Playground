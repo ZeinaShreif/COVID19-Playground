{
 "cells": [
  {
   "cell_type": "code",
   "execution_count": 11,
   "metadata": {},
   "outputs": [],
   "source": [
    "%run Results_and_Plots.ipynb"
   ]
  },
  {
   "cell_type": "markdown",
   "metadata": {},
   "source": [
    "## <font color='green'> Virginia </font>"
   ]
  },
  {
   "cell_type": "code",
   "execution_count": 2,
   "metadata": {},
   "outputs": [
    {
     "name": "stdout",
     "output_type": "stream",
     "text": [
      "\u001b[1m\u001b[31mObtaining Counties Geographical Data for the State of Virginia\u001b[0m\n",
      "\u001b[1m\u001b[31mObtaining Congressional Districts Geographical Data for the State of Virginia\u001b[0m\n",
      "\u001b[1m\u001b[31mObtaining Counties Demographics Data for the State of Virginia\u001b[0m\n",
      "\u001b[1m\u001b[31mObtaining Congressional Districts Demographics Data for the State of Virginia\u001b[0m\n",
      "\u001b[1m\u001b[31mObtaining Counties COVID Data for the State of Virginia\u001b[0m\n",
      "Yay! cleaned VDH file exists\n",
      "cleaned VDH file was last modified on  2021-12-16\n",
      "Today's date is:  2021-12-16\n",
      "Yay, cleaned VDH file is current!\n",
      "\u001b[1m\u001b[31mComputing Congressional Districts COVID Data for the State of Virginia\u001b[0m\n"
     ]
    }
   ],
   "source": [
    "ByPass_Update = False\n",
    "\n",
    "State_Name = 'Virginia'\n",
    "State_Code, list_of_dfs = Get_Data(State_Name, ByPass_Update)"
   ]
  },
  {
   "cell_type": "code",
   "execution_count": 12,
   "metadata": {},
   "outputs": [
    {
     "name": "stdout",
     "output_type": "stream",
     "text": [
      "\u001b[1m\u001b[43m\u001b[31mSelect options and click the Run button\u001b[0m\n"
     ]
    },
    {
     "data": {
      "application/vnd.jupyter.widget-view+json": {
       "model_id": "5e1b607b19a24279a68228b754d80267",
       "version_major": 2,
       "version_minor": 0
      },
      "text/plain": [
       "VBox(children=(HBox(children=(RadioButtons(description='Level', layout=Layout(grid_area='left-sidebar'), optio…"
      ]
     },
     "metadata": {},
     "output_type": "display_data"
    }
   ],
   "source": [
    "Get_Data_Map(State_Code, list_of_dfs)"
   ]
  },
  {
   "cell_type": "code",
   "execution_count": null,
   "metadata": {},
   "outputs": [],
   "source": []
  }
 ],
 "metadata": {
  "kernelspec": {
   "display_name": "Python 3",
   "language": "python",
   "name": "python3"
  },
  "language_info": {
   "codemirror_mode": {
    "name": "ipython",
    "version": 3
   },
   "file_extension": ".py",
   "mimetype": "text/x-python",
   "name": "python",
   "nbconvert_exporter": "python",
   "pygments_lexer": "ipython3",
   "version": "3.8.3"
  }
 },
 "nbformat": 4,
 "nbformat_minor": 4
}
