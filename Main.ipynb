{
 "cells": [
  {
   "cell_type": "code",
   "execution_count": 1,
   "metadata": {},
   "outputs": [],
   "source": [
    "%run Results_and_Plots.ipynb"
   ]
  },
  {
   "cell_type": "markdown",
   "metadata": {},
   "source": [
    "## <font color='green'> Virginia </font>"
   ]
  },
  {
   "cell_type": "code",
   "execution_count": 2,
   "metadata": {},
   "outputs": [],
   "source": [
    "ByPass_Update = False\n",
    "\n",
    "State_Name = 'Virginia'\n",
    "State_Code, list_of_dfs = Get_Data(State_Name, ByPass_Update)"
   ]
  },
  {
   "cell_type": "code",
   "execution_count": 3,
   "metadata": {},
   "outputs": [],
   "source": [
    "# Get_Data_Map(State_Code, list_of_dfs)"
   ]
  },
  {
   "cell_type": "code",
   "execution_count": 4,
   "metadata": {
    "scrolled": true
   },
   "outputs": [],
   "source": [
    "%%time\n",
    "\n",
    "%run Results_and_Plots.ipynb\n",
    "\n",
    "from datetime import date, timedelta\n",
    "\n",
    "start_date = date(2021, 9, 1)\n",
    "end_date = date(2022, 2, 16)\n",
    "frames = 50\n",
    "freq = ((end_date - start_date).days)/frames\n",
    "\n",
    "dates = [(start_date + timedelta(days = int(i*freq))).strftime('%y/%m/%d') for i in range(frames + 1)]\n",
    "print(dates)\n",
    "\n",
    "# df = list_of_dfs[4]\n",
    "# df = df[df['Report Date'].isin(dates)]\n",
    "# df.set_index('County Code', inplace = True)\n",
    "# level = 'County'\n",
    "# data_col = 'New Weekly Deaths'\n",
    "# animation_col = 'Report Date'\n",
    "\n",
    "df = list_of_dfs[5]\n",
    "df = df[df['Report Date'].isin(dates)]\n",
    "df.set_index('CDistrict', inplace = True)\n",
    "level = 'Congressional District'\n",
    "data_col = 'New Biweekly Deaths'\n",
    "animation_col = 'Report Date'\n",
    "\n",
    "Animated_Map_State(State_Code, level, df, data_col, animation_col, Log_Scale = False)"
   ]
  },
  {
   "cell_type": "code",
   "execution_count": null,
   "metadata": {},
   "outputs": [],
   "source": []
  },
  {
   "cell_type": "code",
   "execution_count": null,
   "metadata": {},
   "outputs": [],
   "source": []
  },
  {
   "cell_type": "code",
   "execution_count": null,
   "metadata": {},
   "outputs": [],
   "source": []
  },
  {
   "cell_type": "code",
   "execution_count": null,
   "metadata": {},
   "outputs": [],
   "source": []
  }
 ],
 "metadata": {
  "kernelspec": {
   "display_name": "Python 3",
   "language": "python",
   "name": "python3"
  },
  "language_info": {
   "codemirror_mode": {
    "name": "ipython",
    "version": 3
   },
   "file_extension": ".py",
   "mimetype": "text/x-python",
   "name": "python",
   "nbconvert_exporter": "python",
   "pygments_lexer": "ipython3",
   "version": "3.8.3"
  }
 },
 "nbformat": 4,
 "nbformat_minor": 4
}
