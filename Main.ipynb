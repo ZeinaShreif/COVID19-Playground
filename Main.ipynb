{
 "cells": [
  {
   "cell_type": "code",
   "execution_count": 1,
   "metadata": {},
   "outputs": [],
   "source": [
    "%run Results_and_Plots.ipynb"
   ]
  },
  {
   "cell_type": "markdown",
   "metadata": {},
   "source": [
    "## <font color='green'> Virginia </font>"
   ]
  },
  {
   "cell_type": "code",
   "execution_count": 2,
   "metadata": {},
   "outputs": [
    {
     "name": "stdout",
     "output_type": "stream",
     "text": [
      "\u001b[1m\u001b[31mObtaining Counties Geographical Data for the State of Virginia\u001b[0m\n",
      "\u001b[1m\u001b[31mObtaining Congressional Districts Geographical Data for the State of Virginia\u001b[0m\n",
      "\u001b[1m\u001b[31mObtaining Counties Demographics Data for the State of Virginia\u001b[0m\n",
      "Total Population\n",
      "Under 5 years\n",
      "5 to 14 years\n",
      "15 to 24 years\n",
      "Under 18 years\n",
      "25 to 34 years\n",
      "35 to 44 years\n",
      "45 to 54 years\n",
      "55 to 64 years\n",
      "65 to 74 years\n",
      "75 to 84 years\n",
      "85 years and over\n",
      "65 years and over\n",
      "White, Not Hispanic\n",
      "Black or African American, Not Hispanic\n",
      "American Indian & Alaska Native, Not Hispanic\n",
      "Asian, Not Hispanic\n",
      "Native Hawaiin & Other Pacific Islander, Not Hispanic\n",
      "Other, Not Hispanic\n",
      "Two or More Races, Not Hispanic\n",
      "Hispanic or Latino\n",
      "Median Income\n",
      "Median Income, Male\n",
      "Median Income, Female\n",
      "Per Capita Income\n",
      "Median Household Income\n",
      "\u001b[1m\u001b[31mObtaining Congressional Districts Demographics Data for the State of Virginia\u001b[0m\n",
      "Total Population\n",
      "Under 5 years\n",
      "5 to 14 years\n",
      "15 to 24 years\n",
      "Under 18 years\n",
      "25 to 34 years\n",
      "35 to 44 years\n",
      "45 to 54 years\n",
      "55 to 64 years\n",
      "65 to 74 years\n",
      "75 to 84 years\n",
      "85 years and over\n",
      "65 years and over\n",
      "White, Not Hispanic\n",
      "Black or African American, Not Hispanic\n",
      "American Indian & Alaska Native, Not Hispanic\n",
      "Asian, Not Hispanic\n",
      "Native Hawaiin & Other Pacific Islander, Not Hispanic\n",
      "Other, Not Hispanic\n",
      "Two or More Races, Not Hispanic\n",
      "Hispanic or Latino\n",
      "Median Income\n",
      "Median Income, Male\n",
      "Median Income, Female\n",
      "Per Capita Income\n",
      "Median Household Income\n",
      "\u001b[1m\u001b[31mObtaining Counties COVID Data for the State of Virginia\u001b[0m\n",
      "cleaned VDH file does not exist\n",
      "VDH file does not exist\n",
      "Importing VDH file from the Virginia Health Department Website\n",
      "Cleaning Total Cases data\n",
      "2593  entries adjusted\n",
      "Cleaning Hospitalizations data\n",
      "1384  entries adjusted\n",
      "Cleaning Deaths data\n",
      "618  entries adjusted\n",
      "\u001b[1m\u001b[31mComputing Congressional Districts COVID Data for the State of Virginia\u001b[0m\n"
     ]
    }
   ],
   "source": [
    "ByPass_Update = False\n",
    "\n",
    "State_Name = 'Virginia'\n",
    "State_Code, list_of_dfs = Get_Data(State_Name, ByPass_Update)"
   ]
  },
  {
   "cell_type": "code",
   "execution_count": 3,
   "metadata": {},
   "outputs": [
    {
     "name": "stdout",
     "output_type": "stream",
     "text": [
      "\u001b[1m\u001b[43m\u001b[31mSelect options and click the Run button\u001b[0m\n"
     ]
    },
    {
     "data": {
      "application/vnd.jupyter.widget-view+json": {
       "model_id": "dd16b195bcc5422a8b28242dfa3a4236",
       "version_major": 2,
       "version_minor": 0
      },
      "text/plain": [
       "VBox(children=(HBox(children=(RadioButtons(description='Scope', layout=Layout(grid_area='left-sidebar'), optio…"
      ]
     },
     "metadata": {},
     "output_type": "display_data"
    }
   ],
   "source": [
    "Get_Data_Map(State_Code, list_of_dfs)"
   ]
  },
  {
   "cell_type": "code",
   "execution_count": null,
   "metadata": {},
   "outputs": [],
   "source": []
  }
 ],
 "metadata": {
  "kernelspec": {
   "display_name": "Python 3",
   "language": "python",
   "name": "python3"
  },
  "language_info": {
   "codemirror_mode": {
    "name": "ipython",
    "version": 3
   },
   "file_extension": ".py",
   "mimetype": "text/x-python",
   "name": "python",
   "nbconvert_exporter": "python",
   "pygments_lexer": "ipython3",
   "version": "3.8.3"
  }
 },
 "nbformat": 4,
 "nbformat_minor": 4
}
