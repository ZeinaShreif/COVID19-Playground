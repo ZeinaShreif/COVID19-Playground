{
 "cells": [
  {
   "cell_type": "code",
   "execution_count": 1,
   "metadata": {},
   "outputs": [],
   "source": [
    "import pandas as pd\n",
    "import numpy as np\n",
    "from urllib.request import urlopen\n",
    "import json\n",
    "import plotly.express as px\n",
    "from plotly.subplots import make_subplots\n",
    "import plotly.graph_objects as go\n",
    "import os"
   ]
  },
  {
   "cell_type": "markdown",
   "metadata": {},
   "source": [
    "# **<font color = 'DarkRed'> State Level </font>**"
   ]
  },
  {
   "cell_type": "markdown",
   "metadata": {},
   "source": [
    "* <font color='royalblue'> _Get_State_Code returns the state's two letter abbreviation and code._ </font>"
   ]
  },
  {
   "cell_type": "code",
   "execution_count": 2,
   "metadata": {},
   "outputs": [],
   "source": [
    "def Get_State_Code(State_Name):\n",
    "    State_Codes = pd.read_csv('https://www2.census.gov/geo/docs/reference/state.txt', sep = \"|\")\n",
    "    State_Codes.set_index('STATE_NAME', inplace = True)\n",
    "    State_Code = State_Codes.loc[State_Name, 'STATE']\n",
    "    State = State_Codes.loc[State_Name, 'STUSAB']\n",
    "    \n",
    "    return State, State_Code.astype(str)"
   ]
  },
  {
   "cell_type": "markdown",
   "metadata": {},
   "source": [
    "# **<font color = 'DarkRed'> Congressional District Level </font>**"
   ]
  },
  {
   "cell_type": "markdown",
   "metadata": {},
   "source": [
    "## **<font color='Black'> Obtain congressional districts geometrical information (coordinates, land area, water area), population, and density </font>**"
   ]
  },
  {
   "cell_type": "markdown",
   "metadata": {},
   "source": [
    "* <font color='red'> _Get_geojson_CD116 returns the geometric coordinates of each of the 116th congress congressional districts.<br> If a state code is passed as an argument then only the geometric coordinates of the congressional districts of the specified state will be returned.<br> The geojson dictionary also has other info such as land and water area._ </font>\n",
    "* <font color='darkorange'> _Get_Districts_Pop19 returns the population of each of the 116th congress congressional districts in the given state, based on the 2019 survey._ </font>\n",
    "* <font color='khaki'> _Get_Districts_List returns the list of congressional districts in the state._ </font>\n",
    "* <font color='green'> _Get_District_County_Pop19 returns a dataframe with the population of each (county, district) pair, and the ratio of each county population in shared districts._ </font>\n",
    "* <font color='royalblue'> _Congressional_Districts_Info returns the population, land area (in $Km^{2}$), water area (in $Km^{2}$), and population density (population per $Km^{2}$) of each district in the given state. The population density is taken as the population per land area._ </font>\n",
    "* <font color='purple'> _Congressional_Districts_Map displays the map of the districts of a given state colored by the data in the dataframe, df, in column data_col.<br> The dataframe, df, should have the congressional districts as index.<br> The log_scale default is set to False. If it is set to True then log(data_col) values will be represented._ </font>"
   ]
  },
  {
   "cell_type": "code",
   "execution_count": 3,
   "metadata": {},
   "outputs": [],
   "source": [
    "def Load_geojson_CD116(State_Code = 'all', savefile = False):\n",
    "    with urlopen('https://raw.githubusercontent.com/loganpowell/census-geojson/master/GeoJSON/500k/2019/congressional-district.json') as response:\n",
    "        districts_geoDict = json.load(response)\n",
    "    \n",
    "    if State_Code == 'all':\n",
    "        if savefile:\n",
    "            filename = 'data/all_geojson_CD116.json'\n",
    "            with open(filename, 'w') as f:\n",
    "                json.dump(districts_geoDict, f)\n",
    "        return districts_geoDict\n",
    "    else:\n",
    "        state_districts_geoList = []\n",
    "        for district in districts_geoDict['features']:\n",
    "            if district['properties']['STATEFP'] == State_Code:\n",
    "                state_districts_geoList.append(district)    \n",
    "        state_districts_geoDict = {'type': 'FeatureCollection', 'features': state_districts_geoList}\n",
    "        if savefile:\n",
    "            filename = 'data/' + State_Code + '_geojson_CD116.json'\n",
    "            with open(filename, 'w') as f:\n",
    "                json.dump(state_districts_geoDict, f)\n",
    "        return state_districts_geoDict\n",
    "    \n",
    "def Get_geojson_CD116(State_Code = 'all'):\n",
    "    filename = 'data/' + State_Code + '_geojson_CD116.json'\n",
    "    if os.path.isfile(filename):\n",
    "        with open(filename, 'r') as f:\n",
    "            districts_geoDict = json.load(f)\n",
    "    else:\n",
    "        districts_geoDict = Load_geojson_CD116(State_Code, savefile = True)\n",
    "    return districts_geoDict"
   ]
  },
  {
   "cell_type": "code",
   "execution_count": 4,
   "metadata": {},
   "outputs": [],
   "source": [
    "def Load_Districts_Pop19(State_Code):\n",
    "    IP = 'https://api.census.gov/data/2019/acs/acs5?get=NAME,B01001_001E&for=congressional%20district:*&in=state:{}'\n",
    "    Districts_Pop = pd.read_json(IP.format(State_Code))\n",
    "        \n",
    "    Districts_Pop.drop([0], inplace = True)\n",
    "    Districts_Pop.drop([0, 2], axis = 1, inplace = True)\n",
    "    Districts_Pop.columns = ['Population', 'CDistrict']\n",
    "    Districts_Pop.set_index('CDistrict', inplace = True)\n",
    "    Districts_Pop.sort_index(inplace = True)\n",
    "    Districts_Pop['Population'] = pd.to_numeric(Districts_Pop['Population'], errors='coerce')\n",
    "        \n",
    "    return Districts_Pop\n",
    "\n",
    "def Get_Districts_Pop19(State_Code):\n",
    "    filename = 'data/' + State_Code + '_Districts_Pop19.json'\n",
    "    if os.path.isfile(filename):\n",
    "        Districts_Pop = pd.read_json(filename, orient = 'table')\n",
    "    else:\n",
    "        Districts_Pop = Load_Districts_Pop19(State_Code)\n",
    "        Districts_Pop.to_json(filename, orient = 'table')\n",
    "    \n",
    "    return Districts_Pop"
   ]
  },
  {
   "cell_type": "code",
   "execution_count": 5,
   "metadata": {},
   "outputs": [],
   "source": [
    "def Load_Districts_List(State_Code):\n",
    "    IP = 'https://api.census.gov/data/2020/dec/pl?get=NAME&for=congressional%20district:*&in=state:{}'\n",
    "    Districts = pd.read_json(IP.format(State_Code))\n",
    "    Districts.drop([0], inplace = True)\n",
    "    District_list = Districts[2].to_list()\n",
    "    District_list.sort()\n",
    "    \n",
    "    return District_list\n",
    "\n",
    "def Get_Districts_List(State_Code):\n",
    "    filename = 'data/' + State_Code + '_Districts_List.txt'\n",
    "    if os.path.isfile(filename):\n",
    "        with open(filename, 'r') as f:\n",
    "            District_list = json.load(f)\n",
    "    else:\n",
    "        District_list = Load_Districts_List(State_Code)\n",
    "        with open(filename, 'w') as f:\n",
    "            json.dump(District_list, f)\n",
    "            \n",
    "    return District_list"
   ]
  },
  {
   "cell_type": "code",
   "execution_count": 6,
   "metadata": {},
   "outputs": [],
   "source": [
    "def Load_District_County_Pop19(State_Code):\n",
    "    IP = 'https://api.census.gov/data/2019/acs/acs5?get=NAME,B01003_001E&for=county%20(or%20part):*&in=state:{}%20congressional%20district:{}'\n",
    "    Dist_list = Get_Districts_List(State_Code)\n",
    "    \n",
    "    columns_list = ['County Name', 'Population', 'CDistrict', 'County Code']\n",
    "    DC_Pop = pd.DataFrame(columns = columns_list)\n",
    "\n",
    "    iter = 0\n",
    "    for District in Dist_list:\n",
    "        df = pd.read_json(IP.format(State_Code, District))\n",
    "        df.drop([0], inplace = True)\n",
    "        df.drop([2], axis = 1, inplace = True)\n",
    "        df.columns = columns_list\n",
    "        df['County Name'] = df['County Name'].str.rsplit(',').str[0].str.split(\"\\s+\\(\").str[0]\n",
    "        \n",
    "        DC_Pop = pd.concat([DC_Pop, df], ignore_index = True)\n",
    "        \n",
    "    DC_Pop.sort_values(['County Code', 'CDistrict'], inplace = True)\n",
    "    DC_Pop.set_index('County Code', inplace = True)\n",
    "    DC_Pop['Population'] = pd.to_numeric(DC_Pop['Population'], errors='coerce')\n",
    "    \n",
    "    County_Pop = DC_Pop.groupby(level = 0).agg(Population = ('Population', 'sum'))\n",
    "    \n",
    "    DC_Pop['Ratio in District'] = 0.0\n",
    "    DC_Pop['Ratio in District'] = DC_Pop.loc[:, 'Population']/County_Pop.loc[:, 'Population']\n",
    "        \n",
    "    return DC_Pop[['County Name', 'CDistrict', 'Population', 'Ratio in District']]\n",
    "\n",
    "def Get_District_County_Pop19(State_Code):\n",
    "    filename = 'data/' + State_Code + '_District_County_Pop19.json'\n",
    "    if os.path.isfile(filename):\n",
    "        District_County_Pop = pd.read_json(filename, orient = 'table')\n",
    "    else:\n",
    "        District_County_Pop = Load_District_County_Pop19(State_Code)\n",
    "        District_County_Pop.to_json(filename, orient = 'table')\n",
    "    \n",
    "    return District_County_Pop"
   ]
  },
  {
   "cell_type": "code",
   "execution_count": 7,
   "metadata": {},
   "outputs": [],
   "source": [
    "def Congressional_Districts_Info(State_Code):\n",
    "    df = Get_Districts_Pop19(State_Code)\n",
    "    geojson_dict = Get_geojson_CD116(State_Code)\n",
    "    \n",
    "    df['Land Area'] = 0.0\n",
    "    df['Water Area'] = 0.0\n",
    "    \n",
    "    for District in geojson_dict['features']:\n",
    "        ID = District['properties']['CD116FP']\n",
    "        Land_area = District['properties']['ALAND']\n",
    "        Water_area = District['properties']['AWATER']\n",
    "#         GeoID = District['properties']['GEOID']\n",
    "        \n",
    "        df.loc[ID, 'Land Area'] = Land_area*10**-6\n",
    "        df.loc[ID, 'Water Area'] = Water_area*10**-6\n",
    "        \n",
    "    df['Population Density'] = df['Population']/df['Land Area']\n",
    "    \n",
    "    return df"
   ]
  },
  {
   "cell_type": "code",
   "execution_count": 8,
   "metadata": {},
   "outputs": [],
   "source": [
    "def Congressional_Districts_Map(State_Code, df, data_col, Log_Scale = False):\n",
    "    districts_geoDict = Get_geojson_CD116(State_Code)\n",
    "    \n",
    "    if Log_Scale:\n",
    "        fig = px.choropleth(df, geojson = districts_geoDict, \n",
    "                            locations = df.index.get_level_values(0), \n",
    "                            color = np.log(df[data_col]), \n",
    "                            hover_name = df.index.get_level_values(0), \n",
    "                            featureidkey = 'properties.CD116FP', \n",
    "                            color_continuous_scale = 'Portland', \n",
    "                            projection = 'natural earth', \n",
    "                            labels={'color' : 'Log ' + data_col})      \n",
    "    else:\n",
    "        fig = px.choropleth(df, geojson = districts_geoDict, \n",
    "                            locations = df.index.get_level_values(0), \n",
    "                            color = data_col, \n",
    "                            hover_name = df.index.get_level_values(0), \n",
    "                            featureidkey = 'properties.CD116FP', \n",
    "                            color_continuous_scale = 'Portland', \n",
    "                            projection = 'natural earth')\n",
    "    \n",
    "    fig.update_geos(fitbounds = \"locations\", visible = False)\n",
    "    fig.update_layout(margin={\"r\":0,\"t\":0,\"l\":0,\"b\":0})\n",
    "    fig.show()\n",
    "    \n",
    "    return"
   ]
  },
  {
   "cell_type": "markdown",
   "metadata": {},
   "source": [
    "# **<font color = 'DarkRed'> County Level </font>**"
   ]
  },
  {
   "cell_type": "markdown",
   "metadata": {},
   "source": [
    "## **<font color='Black'> Obtain counties geometrical information (coordinates, land area, water area), population, and density </font>**"
   ]
  },
  {
   "cell_type": "markdown",
   "metadata": {},
   "source": [
    "* <font color='red'> _Get_geojson_Counties returns the geometric coordinates of each US county.<br> If a state code is passed as an argument then only the geometric coordinates of the counties of the specified state will be returned.<br> The geojson dictionary also has other info such as land and water area._ </font>\n",
    "* <font color='darkorange'> _Get_Counties_Pop19 returns the population of each of county in the given state, based on the 2019 survey._ </font>\n",
    "* <font color='khaki'> _Get_CountyNames_Dict returns a dictionary with the county codes of the given state as keys and their corresponding names as values._ </font>\n",
    "* <font color='green'> _Counties_Info returns the population, land area (in $Km^{2}$), water area (in $Km^{2}$), and population density (population per $Km^{2}$) of each county in the given state. The population density is taken as the population per land area._ </font>"
   ]
  },
  {
   "cell_type": "code",
   "execution_count": 9,
   "metadata": {},
   "outputs": [],
   "source": [
    "def Load_geojson_Counties(State_Code = 'all'):\n",
    "    with urlopen('https://raw.githubusercontent.com/loganpowell/census-geojson/master/GeoJSON/500k/2019/county.json') as response:\n",
    "        counties_geoDict = json.load(response)\n",
    "        \n",
    "    if State_Code == 'all':\n",
    "        return counties_geoDict\n",
    "    else:\n",
    "        state_counties_geoList = []\n",
    "        for county in counties_geoDict['features']:\n",
    "            if county['properties']['STATEFP'] == State_Code:\n",
    "                state_counties_geoList.append(county)    \n",
    "        return {'type': 'FeatureCollection', 'features': state_counties_geoList}\n",
    "    \n",
    "def Get_geojson_Counties(State_Code):\n",
    "    filename = 'data/' + State_Code + '_geojson_Counties.json'\n",
    "    if os.path.isfile(filename):\n",
    "        with open(filename, 'r') as f:\n",
    "            counties_geoDict = json.load(f)\n",
    "    else:\n",
    "        counties_geoDict = Load_geojson_Counties(State_Code)\n",
    "        with open(filename, 'w') as f:\n",
    "            json.dump(counties_geoDict, f)\n",
    "        \n",
    "    return counties_geoDict"
   ]
  },
  {
   "cell_type": "code",
   "execution_count": 10,
   "metadata": {},
   "outputs": [],
   "source": [
    "def Load_Counties_Pop19(State_Code):\n",
    "    IP = 'https://api.census.gov/data/2019/acs/acs5?get=NAME,B01003_001E&for=county:*&in=state:{}'\n",
    "    Counties_Pop = pd.read_json(IP.format(State_Code))\n",
    "        \n",
    "    Counties_Pop.drop([0], inplace = True)\n",
    "    Counties_Pop.drop([2], axis = 1, inplace = True)\n",
    "    Counties_Pop.columns = ['County Name', 'Population', 'County Code']\n",
    "    Counties_Pop['County Name'] = Counties_Pop['County Name'].str.rsplit(',').str[0]\n",
    "    Counties_Pop.set_index('County Code', inplace = True)\n",
    "    Counties_Pop.sort_index(inplace = True)\n",
    "    Counties_Pop['Population'] = pd.to_numeric(Counties_Pop['Population'], errors='coerce')\n",
    "        \n",
    "    return Counties_Pop\n",
    "\n",
    "def Get_Counties_Pop19(State_Code):\n",
    "    filename = 'data/' + State_Code + '_Counties_Pop19.json'\n",
    "    if os.path.isfile(filename):\n",
    "        Counties_Pop = pd.read_json(filename, orient = 'table')\n",
    "    else:\n",
    "        Counties_Pop = Load_Counties_Pop19(State_Code)\n",
    "        Counties_Pop.to_json(filename, orient = 'table')\n",
    "    \n",
    "    return Counties_Pop"
   ]
  },
  {
   "cell_type": "code",
   "execution_count": 11,
   "metadata": {},
   "outputs": [],
   "source": [
    "def Load_CountyNames_Dict(State_Code):\n",
    "    IP = 'https://api.census.gov/data/2020/dec/pl?get=NAME&for=county:*&in=state:{}'\n",
    "    Counties = pd.read_json(IP.format(State_Code))\n",
    "    Counties.drop([0], inplace = True)\n",
    "    Counties.drop([1], axis = 1, inplace = True)\n",
    "    Counties.columns = ['County Name', 'County Code']\n",
    "    Counties['County Name'] = Counties['County Name'].str.rsplit(',').str[0]\n",
    "    Counties.set_index('County Code', inplace = True)\n",
    "    Counties.sort_index(inplace = True)\n",
    "    \n",
    "    return Counties.squeeze().to_dict()\n",
    "\n",
    "def Get_CountyNames_Dict(State_Code):\n",
    "    filename = 'data/' + State_Code + '_CountyNames.json'\n",
    "    if os.path.isfile(filename):\n",
    "        with open(filename, 'r') as f:\n",
    "            CountyNames_Dict = json.load(f)\n",
    "    else:\n",
    "        CountyNames_Dict = Load_CountyNames_Dict(State_Code)\n",
    "        with open(filename, 'w') as f:\n",
    "            json.dump(CountyNames_Dict, f)\n",
    "    \n",
    "    return CountyNames_Dict"
   ]
  },
  {
   "cell_type": "code",
   "execution_count": 12,
   "metadata": {},
   "outputs": [],
   "source": [
    "def Counties_Info(State_Code):\n",
    "    df = Get_Counties_Pop19(State_Code)\n",
    "    geojson_dict = Get_geojson_Counties(State_Code)\n",
    "    \n",
    "    df['Land Area'] = 0.0\n",
    "    df['Water Area'] = 0.0\n",
    "    \n",
    "    for County in geojson_dict['features']:\n",
    "        ID = County['properties']['COUNTYFP']\n",
    "        Land_area = County['properties']['ALAND']\n",
    "        Water_area = County['properties']['AWATER']\n",
    "        \n",
    "        df.loc[ID, 'Land Area'] = Land_area*10**-6\n",
    "        df.loc[ID, 'Water Area'] = Water_area*10**-6\n",
    "        \n",
    "    df['Population Density'] = df['Population']/df['Land Area']\n",
    "    \n",
    "    return df"
   ]
  },
  {
   "cell_type": "markdown",
   "metadata": {},
   "source": [
    "# **<font color = 'DarkRed'> County and District Levels Plots </font>**"
   ]
  },
  {
   "cell_type": "markdown",
   "metadata": {},
   "source": [
    "* <font color='royalblue'> _Map_State displays the map of the congressional districts (if level = 'Congressional District'), counties (if level = 'County'), or health districts (if level = 'Health District') of a given state, colored by the data in the dataframe, df, in the data column given by data_col.<br> If level = 'Congressional District', then the dataframe, df, should have the congressional districts as index.<br> If level = 'County', then the dataframe, df, should have the county codes as index.<br> If level = 'Health District', then the dataframe, df, should have the health districts names as index.<br> The log_scale default is set to False. If it is set to True then log(data_col) values will be represented._ </font>"
   ]
  },
  {
   "cell_type": "code",
   "execution_count": 13,
   "metadata": {},
   "outputs": [],
   "source": [
    "def Map_State(State_Code, level, df, data_col, Log_Scale = False):\n",
    "    if level == 'Congressional District':\n",
    "        geoDict = Get_geojson_CD116(State_Code)\n",
    "        featureID = 'properties.CD116FP'\n",
    "        hover_info = df.index.get_level_values(0)\n",
    "    elif level == 'County':\n",
    "        geoDict = Get_geojson_Counties(State_Code)\n",
    "        featureID = 'properties.COUNTYFP'\n",
    "        hover_info = pd.Series(Get_CountyNames_Dict(State_Code))\n",
    "    elif level == 'Health District':\n",
    "        return\n",
    "    else:\n",
    "        print(\"The options for level should be: Congressional District, County, or Health District\")\n",
    "        return\n",
    "    \n",
    "    if Log_Scale:\n",
    "        eps = 1e-10\n",
    "        fig = px.choropleth(df, geojson = geoDict, \n",
    "                            locations = df.index.get_level_values(0), \n",
    "                            color = np.log(df[data_col] + eps),\n",
    "                            hover_name = hover_info,\n",
    "                            featureidkey = featureID, \n",
    "                            color_continuous_scale = 'Portland', \n",
    "                            projection = 'natural earth', \n",
    "                            labels={'color' : 'Log ' + data_col})      \n",
    "    else:\n",
    "        fig = px.choropleth(df, geojson = geoDict, \n",
    "                            locations = df.index.get_level_values(0), \n",
    "                            color = data_col,\n",
    "                            hover_name = hover_info,\n",
    "                            featureidkey = featureID, \n",
    "                            color_continuous_scale = 'Portland', \n",
    "                            projection = 'natural earth')\n",
    "    \n",
    "    fig.update_geos(fitbounds = \"locations\", visible = False)\n",
    "    fig.update_layout(margin={\"r\":0,\"t\":0,\"l\":0,\"b\":0})\n",
    "    fig.show()\n",
    "    \n",
    "    return"
   ]
  }
 ],
 "metadata": {
  "kernelspec": {
   "display_name": "Python 3",
   "language": "python",
   "name": "python3"
  },
  "language_info": {
   "codemirror_mode": {
    "name": "ipython",
    "version": 3
   },
   "file_extension": ".py",
   "mimetype": "text/x-python",
   "name": "python",
   "nbconvert_exporter": "python",
   "pygments_lexer": "ipython3",
   "version": "3.8.3"
  }
 },
 "nbformat": 4,
 "nbformat_minor": 4
}
