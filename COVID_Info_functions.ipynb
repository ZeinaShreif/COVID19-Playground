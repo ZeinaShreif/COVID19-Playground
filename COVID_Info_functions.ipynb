{
 "cells": [
  {
   "cell_type": "code",
   "execution_count": 1,
   "metadata": {},
   "outputs": [],
   "source": [
    "%run GeoInfo_functions.ipynb"
   ]
  },
  {
   "cell_type": "code",
   "execution_count": 2,
   "metadata": {},
   "outputs": [],
   "source": [
    "import os\n",
    "import datetime as dt\n",
    "from sodapy import Socrata\n",
    "from functions import Import_VDH_COVID_Data, Update_VDH_COVID_Data"
   ]
  },
  {
   "cell_type": "markdown",
   "metadata": {},
   "source": [
    "# **<font color = 'DarkRed'> County Level </font>**"
   ]
  },
  {
   "cell_type": "markdown",
   "metadata": {},
   "source": [
    "## **<font color='Black'> Obtain COVID data </font>**"
   ]
  },
  {
   "cell_type": "markdown",
   "metadata": {},
   "source": [
    "## **<font color='Black'> Obtain COVID data from the Virginia Health Department Website </font>**"
   ]
  },
  {
   "cell_type": "markdown",
   "metadata": {},
   "source": [
    "<font color='red'>First check if the json file \"VDH-COVID-19-PublicUseDataset-Cases.json\" exists.<br>\n",
    "If it exists and is current then read the file.<br>Otherwise, import the data from the Virginia Health Department Website and save as a json file</font>"
   ]
  },
  {
   "cell_type": "code",
   "execution_count": 3,
   "metadata": {},
   "outputs": [],
   "source": [
    "def Get_VA_COVID_data(ByPass_Update = False):\n",
    "    VDH_filename = 'data/VDH-COVID-19-PublicUseDataset-Cases.json'\n",
    "    \n",
    "    if os.path.isfile(VDH_filename):\n",
    "        print('Yay! VDH file exists')\n",
    "        # check if file is current\n",
    "        filetime = dt.datetime.fromtimestamp(os.path.getmtime(VDH_filename))\n",
    "        print(\"VDH file was last modified on \", filetime.date())\n",
    "        today = dt.datetime.now().date()\n",
    "        print(\"Today's date is: \", today)\n",
    "        if filetime.date() == today:\n",
    "            print('Yay, VDH file is current!')\n",
    "            COVID_data_Virginia = pd.read_json(VDH_filename, orient = 'table')\n",
    "        else:\n",
    "            print('VDH file is not current')\n",
    "            if ByPass_Update:\n",
    "                print('Reading existing file without updating')\n",
    "                COVID_data_Virginia = pd.read_json(VDH_filename, orient = 'table')\n",
    "            else:\n",
    "                print('Updating VDH file from the Virginia Health Department Website')\n",
    "                COVID_data_Virginia = pd.read_json(VDH_filename, orient = 'table')\n",
    "                COVID_data_Virginia.sort_values(by = 'report_date', ignore_index = True, inplace = True)\n",
    "                sdate = pd.to_datetime(COVID_data_Virginia['report_date'].iloc[-1]) + dt.timedelta(days = 1)\n",
    "                edate = today + dt.timedelta(days = 1)\n",
    "                missing_dates = pd.date_range(sdate, edate - dt.timedelta(days = 1), freq = 'd')\n",
    "                dates_list = []\n",
    "                for d in missing_dates:\n",
    "                    date = d.strftime('%Y-%m-%dT%X') + '.000'\n",
    "                    dates_list.append(date)\n",
    "                    \n",
    "                print(dates_list)\n",
    "                df = Update_VDH_COVID_Data(dates_list)\n",
    "                COVID_data_Virginia = pd.concat([COVID_data_Virginia, df], ignore_index = True)\n",
    "                COVID_data_Virginia.to_json(VDH_filename, orient = 'table')\n",
    "    else:\n",
    "        print('VDH file does not exist')\n",
    "        print('Importing VDH file from the Virginia Health Department Website')\n",
    "        COVID_data_Virginia = Import_VDH_COVID_Data()\n",
    "        COVID_data_Virginia.to_json(VDH_filename, orient = 'table')\n",
    "        \n",
    "    COVID_data_Virginia['report_date'] = pd.to_datetime(COVID_data_Virginia['report_date']).dt.strftime('%y/%m/%d')\n",
    "    COVID_data_Virginia['County Code'] = COVID_data_Virginia['fips'].astype(str).str[2:]\n",
    "    COVID_data_Virginia['fips'] = COVID_data_Virginia['fips'].astype(int)\n",
    "\n",
    "    cols = ['total_cases', 'hospitalizations', 'deaths']\n",
    "    COVID_data_Virginia[cols] = COVID_data_Virginia[cols].apply(pd.to_numeric, errors='coerce')\n",
    "\n",
    "    # The Thomas Jefferson health district was later renamed Blue Ridge\n",
    "    COVID_data_Virginia['vdh_health_district'] = np.where(COVID_data_Virginia['vdh_health_district'] == 'Thomas Jefferson',\n",
    "                                                     'Blue Ridge', COVID_data_Virginia['vdh_health_district'])\n",
    "\n",
    "    # At once instance there is an error where \"c\" was entered for the vdh_health_district instead of Rappahannock Rapidan\n",
    "    COVID_data_Virginia['vdh_health_district'] = np.where(COVID_data_Virginia['vdh_health_district'] == 'c',\n",
    "                                                     'Rappahannock Rapidan', COVID_data_Virginia['vdh_health_district'])\n",
    "    \n",
    "    COVID_data_Virginia['locality'] = [(Get_CountyNames_Dict('51'))[x] for x in COVID_data_Virginia['County Code']]\n",
    "    \n",
    "    COVID_data_Virginia.columns = ['Report Date', 'fips', 'County Name', 'Health District', \n",
    "                                   'Total Cases', 'Hospitalizations', 'Deaths', 'County Code']\n",
    "    \n",
    "    return COVID_data_Virginia"
   ]
  },
  {
   "cell_type": "markdown",
   "metadata": {},
   "source": [
    "### <font color='red'> Correct for negative data after completion of quality assurance by the state's Department of Health </font>\n",
    "* <font color='royalblue'> _Sometimes the total cases, hospitalization, or death decreases after the DH conducts quality assurance to ensure:<br>\n",
    "1) cases are not assigned to the wrong locality as some ZIP codes cross between localities <br>\n",
    "2) multiple positive test results for the same infection in one person are not counted as multiple COVID-19 cases <br>\n",
    "3) the case follows the criteria outlined in a national case surveillance definition by the CDC._ </font>"
   ]
  },
  {
   "cell_type": "code",
   "execution_count": 4,
   "metadata": {},
   "outputs": [],
   "source": [
    "def Clean_COVID_data(df, col_list):\n",
    "    VDH_filename = 'data/VDH-COVID-19-PublicUseDataset-Cases_cleaned.json'\n",
    "    df.sort_values(by = ['County Code', 'Report Date'], inplace = True)\n",
    "    date0 = df.iloc[0]['Report Date']\n",
    "    df.set_index(['County Code', 'Report Date'], inplace = True)\n",
    "    df.sort_index(inplace = True)\n",
    "    \n",
    "    def Get_Dates_of_Adjusment(Mask):\n",
    "        try:\n",
    "            Adjusted_dates = (df[Mask].index).tolist()\n",
    "        except KeyError:\n",
    "            Adjusted_dates = []\n",
    "        return Adjusted_dates\n",
    "    \n",
    "    for col in col_list:\n",
    "        new_col = 'New Daily ' + col.replace('Total ', '')\n",
    "        df[new_col] = df.groupby('County Code')[col].diff().fillna(0)\n",
    "\n",
    "        print('Cleaning', col, 'data')\n",
    "        Adjusted_dates = Get_Dates_of_Adjusment(df[new_col] < 0)\n",
    "        iter = 0\n",
    "        for d in Adjusted_dates:\n",
    "            Max_cases = df.loc[d, col]\n",
    "            Mask = df[col] > Max_cases\n",
    "            Ind = df[Mask].loc[(d[0], date0) : d].index\n",
    "            df.loc[Ind, col] = Max_cases\n",
    "            iter += 1\n",
    "            \n",
    "        print(iter, ' entries adjusted')\n",
    "        df[new_col] = df.groupby('County Code')[col].diff().fillna(0).astype('int')\n",
    "    \n",
    "    df.reset_index(inplace = True)\n",
    "    df.to_json(VDH_filename, orient = 'table')\n",
    "    \n",
    "    return df"
   ]
  },
  {
   "cell_type": "code",
   "execution_count": 5,
   "metadata": {},
   "outputs": [],
   "source": [
    "def Get_Per_Pop(State_Code, scope, df, col):\n",
    "    if scope == 'County':\n",
    "        Pop_df = Get_Counties_Pop19(State_Code)\n",
    "    elif scope == 'Congressional District':\n",
    "        Pop_df = Get_Districts_Pop19(State_Code)\n",
    "        \n",
    "    return df.loc[:, col]/Pop_df.loc[:, 'Population']"
   ]
  },
  {
   "cell_type": "code",
   "execution_count": 6,
   "metadata": {},
   "outputs": [],
   "source": [
    "def Add_Pop_data(State_Code, level, df, col_list):\n",
    "#     print(col_list)\n",
    "    if level == 'County':\n",
    "        Pop_df = Get_Counties_Pop19(State_Code)\n",
    "        df.set_index('County Code', inplace = True)\n",
    "    elif level == 'Congressional District':\n",
    "        Pop_df = Get_Districts_Pop19(State_Code)\n",
    "        df.set_index('CDistrict', inplace = True)\n",
    "    \n",
    "    df.sort_index(inplace = True)\n",
    "    for col1 in col_list:\n",
    "        col2 = col1 + ' per Pop'\n",
    "        df[col2] = df.loc[:, col1]/Pop_df.loc[:, 'Population']\n",
    "        \n",
    "    df.reset_index(inplace = True)\n",
    "    return df"
   ]
  },
  {
   "cell_type": "code",
   "execution_count": 7,
   "metadata": {},
   "outputs": [],
   "source": [
    "def Get_Cleaned_VA_COVID_data(ByPass_Update = False):\n",
    "    VDH_filename = 'data/VDH-COVID-19-PublicUseDataset-Cases_cleaned.json'\n",
    "    \n",
    "    if os.path.isfile(VDH_filename):\n",
    "        print('Yay! cleaned VDH file exists')\n",
    "        # check if file is current\n",
    "        filetime = dt.datetime.fromtimestamp(os.path.getmtime(VDH_filename))\n",
    "        print(\"cleaned VDH file was last modified on \", filetime.date())\n",
    "        today = dt.datetime.now().date()\n",
    "        print(\"Today's date is: \", today)\n",
    "        if filetime.date() == today:\n",
    "            print('Yay, cleaned VDH file is current!')\n",
    "            COVID_data_Virginia = pd.read_json(VDH_filename, orient = 'table')\n",
    "        else:\n",
    "            print('cleaned VDH file is not current')\n",
    "            if ByPass_Update:\n",
    "                print('Reading existing file without updating')\n",
    "                COVID_data_Virginia = pd.read_json(VDH_filename, orient = 'table')\n",
    "            else:\n",
    "                df = Get_VA_COVID_data(ByPass_Update)\n",
    "                COVID_data_Virginia = Clean_COVID_data(df, ['Total Cases', 'Hospitalizations', 'Deaths'])\n",
    "    else:\n",
    "        print('cleaned VDH file does not exist')\n",
    "        df = Get_VA_COVID_data(ByPass_Update)\n",
    "        COVID_data_Virginia = Clean_COVID_data(df, ['Total Cases', 'Hospitalizations', 'Deaths'])\n",
    "        \n",
    "    COVID_data_Virginia['County Code'] = COVID_data_Virginia['County Code'].astype(str)\n",
    "    \n",
    "    COVID_data_Virginia['Hospitalizations Ratio'] = (COVID_data_Virginia['Hospitalizations'].\n",
    "                                                     divide(COVID_data_Virginia['Total Cases'])).replace(np.nan, 0)\n",
    "    COVID_data_Virginia['Deaths Ratio'] = (COVID_data_Virginia['Deaths'].\n",
    "                                           divide(COVID_data_Virginia['Total Cases'])).replace(np.nan, 0)\n",
    "    COVID_data_Virginia['Deaths per Hospitalizations'] = (COVID_data_Virginia['Deaths'].\n",
    "                                                          divide(COVID_data_Virginia['Hospitalizations'])\n",
    "                                                         ).replace(np.nan, 0)\n",
    "        \n",
    "    return COVID_data_Virginia"
   ]
  },
  {
   "cell_type": "code",
   "execution_count": 8,
   "metadata": {},
   "outputs": [],
   "source": [
    "def Get_CongressionalDistricts_COVID_data(State_Code, df_counties):\n",
    "    CD_Pop = Get_District_County_Pop19(State_Code)\n",
    "    CD_Pop.reset_index(inplace = True)\n",
    "    col_list = df_counties.loc[:, 'New Daily Cases':'Deaths per Hospitalizations'].columns.to_list()\n",
    "    df = pd.merge(CD_Pop.drop(columns = ['County Name']), \n",
    "                  df_counties.drop(columns = col_list), \n",
    "                  how = 'inner', on = 'County Code')\n",
    "\n",
    "    df.set_index(['County Code', 'CDistrict'], inplace = True)\n",
    "    \n",
    "    df.loc[:, 'Total Cases in District'] = (df.loc[:, 'Total Cases'].\n",
    "                                            multiply(df['Ratio in District'], axis = 'index')).round().astype(int)    \n",
    "    df.loc[:, 'Hospitalizations in District'] = (df.loc[:, 'Hospitalizations'].\n",
    "                                                 multiply(df['Ratio in District'], axis = 'index')).round().astype(int)\n",
    "    df.loc[:, 'Deaths in District'] = (df.loc[:, 'Deaths'].\n",
    "                                       multiply(df['Ratio in District'], axis = 'index')).round().astype(int)\n",
    "    \n",
    "    df['isMax'] = (df.groupby(['County Code', 'Report Date'])['Population'].transform(max) == df['Population']).astype(int)\n",
    "    df['Diff Cases'] = (df.groupby(['County Code', 'Report Date'])['Total Cases in District'].\n",
    "                        transform(sum) - df['Total Cases'])\n",
    "    df['Diff Hosp'] = (df.groupby(['County Code', 'Report Date'])['Hospitalizations in District'].\n",
    "                       transform(sum) - df['Hospitalizations'])\n",
    "    df['Diff Deaths'] = (df.groupby(['County Code', 'Report Date'])['Deaths in District'].\n",
    "                         transform(sum) - df['Deaths'])\n",
    "    \n",
    "    df['Total Cases in District'] -= df['isMax']*df['Diff Cases']\n",
    "    df['Hospitalizations in District'] -= df['isMax']*df['Diff Hosp']\n",
    "    df['Deaths in District'] -= df['isMax']*df['Diff Deaths']\n",
    "    \n",
    "    df['Diff Cases'] = (df.groupby(['County Code', 'Report Date'])['Total Cases in District'].\n",
    "                        transform(sum) - df['Total Cases'])\n",
    "    df['Diff Hosp'] = (df.groupby(['County Code', 'Report Date'])['Hospitalizations in District'].\n",
    "                       transform(sum) - df['Hospitalizations'])\n",
    "    df['Diff Deaths'] = (df.groupby(['County Code', 'Report Date'])['Deaths in District'].\n",
    "                         transform(sum) - df['Deaths'])\n",
    "\n",
    "    df_districts = df.groupby(['CDistrict', 'Report Date']\n",
    "                             )[['Total Cases in District', 'Hospitalizations in District', 'Deaths in District']].sum()\n",
    "    \n",
    "    df_districts.columns = ['Total Cases', 'Hospitalizations', 'Deaths']\n",
    "    df_districts['New Daily Cases'] = df_districts.groupby('CDistrict')['Total Cases'].diff().fillna(0).astype('int')\n",
    "    \n",
    "    df_districts['New Daily Hospitalizations'] = (df_districts.groupby('CDistrict')['Hospitalizations'].\n",
    "                                                  diff().fillna(0).astype('int'))\n",
    "    \n",
    "    df_districts['New Daily Deaths'] = df_districts.groupby('CDistrict')['Deaths'].diff().fillna(0).astype('int')\n",
    "    \n",
    "    df_districts['Hospitalizations Ratio'] = (df_districts['Hospitalizations'].\n",
    "                                              divide(df_districts['Total Cases'])).replace(np.nan, 0)\n",
    "    df_districts['Deaths Ratio'] = (df_districts['Deaths'].divide(df_districts['Total Cases'])).replace(np.nan, 0)\n",
    "    df_districts['Deaths per Hospitalizations'] = (df_districts['Deaths'].\n",
    "                                                   divide(df_districts['Hospitalizations'])).replace(np.nan, 0)\n",
    "    df_districts.reset_index(inplace = True)\n",
    "    \n",
    "    return df_districts "
   ]
  },
  {
   "cell_type": "markdown",
   "metadata": {},
   "source": [
    "# <font color='red'>=============================================================</font>"
   ]
  },
  {
   "cell_type": "code",
   "execution_count": null,
   "metadata": {},
   "outputs": [],
   "source": []
  },
  {
   "cell_type": "code",
   "execution_count": null,
   "metadata": {},
   "outputs": [],
   "source": []
  }
 ],
 "metadata": {
  "kernelspec": {
   "display_name": "Python 3",
   "language": "python",
   "name": "python3"
  },
  "language_info": {
   "codemirror_mode": {
    "name": "ipython",
    "version": 3
   },
   "file_extension": ".py",
   "mimetype": "text/x-python",
   "name": "python",
   "nbconvert_exporter": "python",
   "pygments_lexer": "ipython3",
   "version": "3.8.3"
  }
 },
 "nbformat": 4,
 "nbformat_minor": 4
}
